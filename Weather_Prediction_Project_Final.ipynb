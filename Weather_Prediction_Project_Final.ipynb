{
 "cells": [
  {
   "cell_type": "code",
   "execution_count": 1,
   "metadata": {},
   "outputs": [],
   "source": [
    "# IMPORTING NECESSARY LIBRARIES\n",
    "\n",
    "\n",
    "import pandas as pd\n",
    "import numpy as np\n",
    "import matplotlib.pyplot as plt\n",
    "import seaborn as sns\n",
    "from sklearn.preprocessing import MinMaxScaler\n",
    "from sklearn.model_selection import train_test_split\n",
    "from tensorflow.keras.models import Sequential\n",
    "from tensorflow.keras.layers import LSTM, Dense, Dropout, BatchNormalization\n",
    "from tensorflow.keras.optimizers import Adam\n",
    "from tensorflow.keras.callbacks import EarlyStopping, ModelCheckpoint, TensorBoard\n",
    "from keras_tuner import RandomSearch, Hyperband, Objective\n",
    "import datetime\n",
    "import os\n"
   ]
  },
  {
   "cell_type": "code",
   "execution_count": 2,
   "metadata": {},
   "outputs": [],
   "source": [
    "# DATA LOADING\n",
    "\n",
    "\n",
    "temperature_df = pd.read_csv(r'C:\\Users\\HP\\OneDrive\\Desktop\\WEATHER PREDICTION PROJECT\\temperature.csv')\n",
    "humidity_df = pd.read_csv(r'C:\\Users\\HP\\OneDrive\\Desktop\\WEATHER PREDICTION PROJECT\\humidity.csv')\n",
    "pressure_df = pd.read_csv(r'C:\\Users\\HP\\OneDrive\\Desktop\\WEATHER PREDICTION PROJECT\\pressure.csv')\n",
    "wind_speed_df = pd.read_csv(r'C:\\Users\\HP\\OneDrive\\Desktop\\WEATHER PREDICTION PROJECT\\wind_speed.csv')\n",
    "wind_direction_df = pd.read_csv(r'C:\\Users\\HP\\OneDrive\\Desktop\\WEATHER PREDICTION PROJECT\\wind_direction.csv')\n",
    "\n",
    "# Combine dataframes\n",
    "combined_df = pd.concat([temperature_df, humidity_df, pressure_df, wind_speed_df, wind_direction_df], axis=1)\n"
   ]
  },
  {
   "cell_type": "code",
   "execution_count": 5,
   "metadata": {},
   "outputs": [
    {
     "name": "stdout",
     "output_type": "stream",
     "text": [
      "Remaining NaN values in dataset: 0\n"
     ]
    }
   ],
   "source": [
    "# Convert 'datetime' to datetime type and set as index for all dataframes\n",
    "dfs = [temperature_df, humidity_df, pressure_df, wind_speed_df, wind_direction_df]\n",
    "for df in dfs:\n",
    "    df['datetime'] = pd.to_datetime(df['datetime'])\n",
    "    df.set_index('datetime', inplace=True)\n",
    "\n",
    "# Combine dataframes on datetime index\n",
    "combined_df = pd.concat(dfs, axis=1)\n",
    "\n",
    "# Handle missing values - fill with median or drop, depending on your analysis needs\n",
    "combined_df.fillna(combined_df.median(), inplace=True)\n",
    "\n",
    "# Remove any infinite values if they exist\n",
    "combined_df.replace([np.inf, -np.inf], np.nan, inplace=True)\n",
    "combined_df.dropna(inplace=True)\n",
    "\n",
    "# Normalization with MinMaxScaler\n",
    "scaler = MinMaxScaler()\n",
    "combined_df_scaled = pd.DataFrame(scaler.fit_transform(combined_df), columns=combined_df.columns)\n",
    "\n",
    "# Checking for any remaining missing values\n",
    "print(\"Remaining NaN values in dataset:\", combined_df_scaled.isna().sum().sum())"
   ]
  },
  {
   "cell_type": "code",
   "execution_count": 7,
   "metadata": {},
   "outputs": [],
   "source": [
    "# Select only temperature columns for simplicity and prediction\n",
    "temperature_columns = [col for col in combined_df_scaled.columns if 'temp' in col.lower()]\n",
    "features = combined_df_scaled[temperature_columns]\n",
    "\n",
    "# Assuming the data is in hourly intervals and we predict the next hour based on the current hour\n",
    "# Shifting the target data by -1 to predict the next hour's temperature\n",
    "target = features.shift(-1)\n",
    "\n",
    "# Drop the last row which now contains NaN values in the target\n",
    "features = features.iloc[:-1]\n",
    "target = target.iloc[:-1]\n",
    "\n",
    "# Reshape features for LSTM [samples, time steps, features]\n",
    "# Each sample will contain only one time step and multiple features (temperatures of all cities)\n",
    "X = np.reshape(features.values, (features.shape[0], 1, features.shape[1]))\n",
    "\n",
    "# Split data into training and testing\n",
    "from sklearn.model_selection import train_test_split\n",
    "X_train, X_test, y_train, y_test = train_test_split(X, target.values, test_size=0.2, random_state=42)\n"
   ]
  },
  {
   "cell_type": "code",
   "execution_count": 8,
   "metadata": {},
   "outputs": [],
   "source": [
    "\n",
    "\n",
    "# Define the model building function for hyperparameter tuning\n",
    "def build_model(hp):\n",
    "    model = Sequential([\n",
    "        LSTM(units=hp.Int('units', min_value=50, max_value=200, step=50), return_sequences=True, input_shape=(1, X_train.shape[2])),\n",
    "        Dropout(hp.Float('dropout_1', min_value=0.0, max_value=0.3, step=0.1)),\n",
    "        LSTM(units=hp.Int('units', min_value=50, max_value=200, step=50)),\n",
    "        Dropout(hp.Float('dropout_2', min_value=0.0, max_value=0.3, step=0.1)),\n",
    "        Dense(units=X_train.shape[2])  # Output layer with a unit for each city\n",
    "    ])\n",
    "    model.compile(optimizer=Adam(hp.Choice('learning_rate', values=[1e-2, 1e-3, 1e-4])),\n",
    "                  loss='mean_squared_error',\n",
    "                  metrics=['mae', 'mse'])\n",
    "    return model\n"
   ]
  },
  {
   "cell_type": "code",
   "execution_count": 2,
   "metadata": {},
   "outputs": [
    {
     "ename": "NameError",
     "evalue": "name 'build_model' is not defined",
     "output_type": "error",
     "traceback": [
      "\u001b[1;31m---------------------------------------------------------------------------\u001b[0m",
      "\u001b[1;31mNameError\u001b[0m                                 Traceback (most recent call last)",
      "\u001b[1;32m~\\AppData\\Local\\Temp/ipykernel_9744/4199794120.py\u001b[0m in \u001b[0;36m<module>\u001b[1;34m\u001b[0m\n\u001b[0;32m      4\u001b[0m \u001b[1;31m# Setting up Keras Tuner for hyperparameter optimization\u001b[0m\u001b[1;33m\u001b[0m\u001b[1;33m\u001b[0m\u001b[0m\n\u001b[0;32m      5\u001b[0m tuner = RandomSearch(\n\u001b[1;32m----> 6\u001b[1;33m     \u001b[0mbuild_model\u001b[0m\u001b[1;33m,\u001b[0m\u001b[1;33m\u001b[0m\u001b[1;33m\u001b[0m\u001b[0m\n\u001b[0m\u001b[0;32m      7\u001b[0m     \u001b[0mobjective\u001b[0m\u001b[1;33m=\u001b[0m\u001b[1;34m'val_loss'\u001b[0m\u001b[1;33m,\u001b[0m\u001b[1;33m\u001b[0m\u001b[1;33m\u001b[0m\u001b[0m\n\u001b[0;32m      8\u001b[0m     \u001b[0mmax_trials\u001b[0m\u001b[1;33m=\u001b[0m\u001b[1;36m10\u001b[0m\u001b[1;33m,\u001b[0m\u001b[1;33m\u001b[0m\u001b[1;33m\u001b[0m\u001b[0m\n",
      "\u001b[1;31mNameError\u001b[0m: name 'build_model' is not defined"
     ]
    }
   ],
   "source": [
    "\n",
    "# Import Keras Tuner libraries\n",
    "from keras_tuner import RandomSearch, Hyperband, Objective\n",
    "\n",
    "# Setting up Keras Tuner for hyperparameter optimization\n",
    "tuner = RandomSearch(\n",
    "    build_model,\n",
    "    objective='val_loss',\n",
    "    max_trials=10,\n",
    "    executions_per_trial=2,\n",
    "    directory='model_tuning',\n",
    "    project_name='WeatherPrediction'\n",
    ")\n",
    "\n",
    "# Start hyperparameter tuning\n",
    "tuner.search(X_train, y_train, epochs=50, validation_split=0.2, callbacks=[EarlyStopping(monitor='val_loss', patience=5)])\n",
    "\n",
    "# Get the best model\n",
    "best_model = tuner.get_best_models(num_models=1)[0]\n"
   ]
  }
 ],
 "metadata": {
  "kernelspec": {
   "display_name": "Python 3",
   "language": "python",
   "name": "python3"
  },
  "language_info": {
   "codemirror_mode": {
    "name": "ipython",
    "version": 3
   },
   "file_extension": ".py",
   "mimetype": "text/x-python",
   "name": "python",
   "nbconvert_exporter": "python",
   "pygments_lexer": "ipython3",
   "version": "3.10.9"
  }
 },
 "nbformat": 4,
 "nbformat_minor": 2
}
